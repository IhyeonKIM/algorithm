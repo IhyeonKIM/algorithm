{
  "nbformat": 4,
  "nbformat_minor": 0,
  "metadata": {
    "colab": {
      "provenance": []
    },
    "kernelspec": {
      "name": "python3",
      "display_name": "Python 3"
    },
    "language_info": {
      "name": "python"
    }
  },
  "cells": [
    {
      "cell_type": "markdown",
      "source": [
        "# Python으로 구현한 간단한 linked list\n",
        "\n",
        "출처: [제주코딩베이스캠프](https://youtu.be/1S_iqIonYzs)\n",
        "\n",
        "참고: [Visualgo](https://visualgo.net/en)\n",
        "\n",
        "## Linked List"
      ],
      "metadata": {
        "id": "JsvXc25D8SG4"
      }
    },
    {
      "cell_type": "code",
      "execution_count": null,
      "metadata": {
        "id": "pyBVU8GY155z"
      },
      "outputs": [],
      "source": [
        "class Node : \n",
        "  def __init__(self, data):\n",
        "    self.data = data\n",
        "    self.next = None\n",
        "\n",
        "class LinkedList :\n",
        "  def __init__(self):\n",
        "    init = Node('init')\n",
        "    self.head = init \n",
        "    self.tail = init\n",
        "    self.현재노드 = None \n",
        "    self.데이터수 = 0\n",
        "\n",
        "  def __len__(self): #len함수 정의 \n",
        "    return self.데이터수\n",
        "\n",
        "\n",
        "  #프린트할때 \n",
        "  def __str__(self): \n",
        "    현재노드 = self.head\n",
        "    현재노드 = 현재노드.next \n",
        "    s=''\n",
        "\n",
        "    for i in range(self.데이터수):\n",
        "      s+= f'{현재노드.data},' #콤마 빼먹지 않기 \n",
        "      현재노드 = 현재노드.next \n",
        "\n",
        "    return f'[{s[:-2]}]' \n",
        "\n",
        "\n",
        "  def pop(self):\n",
        "    마지막값 = self.tail.data \n",
        "    현재노드 = self.head\n",
        "\n",
        "    for i in range(self.데이터수):\n",
        "      if 현재노드.next is self.tail : \n",
        "        self.tail = 현재노드\n",
        "        break \n",
        "      현재노드 = 현재노드.next\n",
        "\n",
        "    self.데이터수 -= 1 \n",
        "    return 마지막값\n",
        "    \n",
        "  def find(self,data):\n",
        "    index = -1 #init노드때문 \n",
        "    현재노드 = self.head\n",
        "\n",
        "    for i in range(self.데이터수+1):\n",
        "      if 현재노드.data == data:\n",
        "        return index\n",
        "      index +=1 \n",
        "      현재노드 = 현재노드.next\n",
        "\n",
        "    return -1 \n",
        "\n",
        "\n",
        "  def append(self, data):\n",
        "    새로운노드 = Node(data)\n",
        "    self.tail.next = 새로운노드\n",
        "    self.tail = 새로운노드 \n",
        "    self.데이터수 +=1 "
      ]
    },
    {
      "cell_type": "code",
      "source": [
        "l = LinkedList()\n",
        "l.append(10)\n",
        "l.append(20)\n",
        "l.append(30)\n",
        "l.append(40)\n",
        "l.append(50)\n",
        "l.append(60)\n"
      ],
      "metadata": {
        "id": "a_RdRYubFC58"
      },
      "execution_count": null,
      "outputs": []
    },
    {
      "cell_type": "code",
      "source": [
        "l.head.data"
      ],
      "metadata": {
        "colab": {
          "base_uri": "https://localhost:8080/",
          "height": 35
        },
        "id": "hbvkhfzTFNf_",
        "outputId": "aeae0e7e-cb40-40c5-a9f5-eb84dc3f521a"
      },
      "execution_count": null,
      "outputs": [
        {
          "output_type": "execute_result",
          "data": {
            "text/plain": [
              "'init'"
            ],
            "application/vnd.google.colaboratory.intrinsic+json": {
              "type": "string"
            }
          },
          "metadata": {},
          "execution_count": 11
        }
      ]
    },
    {
      "cell_type": "code",
      "source": [
        "l.head.next.data\n",
        "l.head.next.next.data"
      ],
      "metadata": {
        "colab": {
          "base_uri": "https://localhost:8080/"
        },
        "id": "opRzUs5eFRHR",
        "outputId": "225222e8-9911-45d2-fa76-b57dc3d79a8c"
      },
      "execution_count": null,
      "outputs": [
        {
          "output_type": "execute_result",
          "data": {
            "text/plain": [
              "20"
            ]
          },
          "metadata": {},
          "execution_count": 12
        }
      ]
    },
    {
      "cell_type": "code",
      "source": [
        "l.head.next.next.next.data"
      ],
      "metadata": {
        "colab": {
          "base_uri": "https://localhost:8080/"
        },
        "id": "69rJib-yF0Dk",
        "outputId": "885942a8-aa10-40de-ed95-3138d3050158"
      },
      "execution_count": null,
      "outputs": [
        {
          "output_type": "execute_result",
          "data": {
            "text/plain": [
              "30"
            ]
          },
          "metadata": {},
          "execution_count": 13
        }
      ]
    },
    {
      "cell_type": "code",
      "source": [
        "l.head.next.next.next.next.data"
      ],
      "metadata": {
        "colab": {
          "base_uri": "https://localhost:8080/"
        },
        "id": "nI7pIpT5F3rP",
        "outputId": "3da1c590-deca-49ac-938c-018840a1c10e"
      },
      "execution_count": null,
      "outputs": [
        {
          "output_type": "execute_result",
          "data": {
            "text/plain": [
              "40"
            ]
          },
          "metadata": {},
          "execution_count": 15
        }
      ]
    },
    {
      "cell_type": "code",
      "source": [
        "l.tail.data"
      ],
      "metadata": {
        "colab": {
          "base_uri": "https://localhost:8080/"
        },
        "id": "GwQnxuDjFTt7",
        "outputId": "19aa3a85-4c5d-4dea-8847-24a71e4d3ffc"
      },
      "execution_count": null,
      "outputs": [
        {
          "output_type": "execute_result",
          "data": {
            "text/plain": [
              "60"
            ]
          },
          "metadata": {},
          "execution_count": 14
        }
      ]
    },
    {
      "cell_type": "code",
      "source": [
        "len(l)"
      ],
      "metadata": {
        "colab": {
          "base_uri": "https://localhost:8080/"
        },
        "id": "gjUDo5M-FZ3q",
        "outputId": "9453c262-fe33-464a-a6ea-9c96592e9482"
      },
      "execution_count": null,
      "outputs": [
        {
          "output_type": "execute_result",
          "data": {
            "text/plain": [
              "6"
            ]
          },
          "metadata": {},
          "execution_count": 18
        }
      ]
    },
    {
      "cell_type": "code",
      "source": [
        "print(l)"
      ],
      "metadata": {
        "colab": {
          "base_uri": "https://localhost:8080/"
        },
        "id": "k33lmnICGV6O",
        "outputId": "e391fd38-9255-49e0-c375-71d09ccc70a7"
      },
      "execution_count": null,
      "outputs": [
        {
          "output_type": "stream",
          "name": "stdout",
          "text": [
            "[10,20,30,40,50,6]\n"
          ]
        }
      ]
    },
    {
      "cell_type": "code",
      "source": [
        "l.pop()"
      ],
      "metadata": {
        "colab": {
          "base_uri": "https://localhost:8080/"
        },
        "id": "abCJzwfmHkkQ",
        "outputId": "646a9f30-7693-4909-bdbd-b51a153cf312"
      },
      "execution_count": null,
      "outputs": [
        {
          "output_type": "execute_result",
          "data": {
            "text/plain": [
              "60"
            ]
          },
          "metadata": {},
          "execution_count": 42
        }
      ]
    },
    {
      "cell_type": "code",
      "source": [
        "print(l)"
      ],
      "metadata": {
        "colab": {
          "base_uri": "https://localhost:8080/"
        },
        "id": "DF_ld1ETIqjS",
        "outputId": "d1166b05-400f-4215-dc03-4c6ed6fdddda"
      },
      "execution_count": null,
      "outputs": [
        {
          "output_type": "stream",
          "name": "stdout",
          "text": [
            "[10,20,30,40,5]\n"
          ]
        }
      ]
    },
    {
      "cell_type": "code",
      "source": [
        "l.find(10)"
      ],
      "metadata": {
        "colab": {
          "base_uri": "https://localhost:8080/"
        },
        "id": "DteBYaW1Ir4j",
        "outputId": "3e2e6c75-a127-448b-c8f4-808e3286a9e5"
      },
      "execution_count": null,
      "outputs": [
        {
          "output_type": "execute_result",
          "data": {
            "text/plain": [
              "0"
            ]
          },
          "metadata": {},
          "execution_count": 52
        }
      ]
    },
    {
      "cell_type": "code",
      "source": [
        "l.find(30)"
      ],
      "metadata": {
        "colab": {
          "base_uri": "https://localhost:8080/"
        },
        "id": "5cmTaG73Jwa-",
        "outputId": "0e3d5d08-89ae-466b-c33f-99361da128cf"
      },
      "execution_count": null,
      "outputs": [
        {
          "output_type": "execute_result",
          "data": {
            "text/plain": [
              "2"
            ]
          },
          "metadata": {},
          "execution_count": 53
        }
      ]
    },
    {
      "cell_type": "code",
      "source": [
        "l.find(1) #없으면 -1 반환 "
      ],
      "metadata": {
        "colab": {
          "base_uri": "https://localhost:8080/"
        },
        "id": "Ez_gq5ZCJ_JK",
        "outputId": "38718530-4f67-4fa9-b452-0450bd07ce0b"
      },
      "execution_count": null,
      "outputs": [
        {
          "output_type": "execute_result",
          "data": {
            "text/plain": [
              "-1"
            ]
          },
          "metadata": {},
          "execution_count": 54
        }
      ]
    },
    {
      "cell_type": "markdown",
      "source": [
        "추가 (Find / insert) "
      ],
      "metadata": {
        "id": "JskU7PMViN55"
      }
    },
    {
      "cell_type": "code",
      "source": [
        "class Node : \n",
        "  def __init__(self, data):\n",
        "    self.data = data\n",
        "    self.next = None\n",
        "\n",
        "class LinkedList :\n",
        "  def __init__(self):\n",
        "    init = Node('init')\n",
        "    self.head = init \n",
        "    self.tail = init\n",
        "    self.현재노드 = None \n",
        "    self.데이터수 = 0\n",
        "\n",
        "  def __len__(self): #len함수 정의 \n",
        "    return self.데이터수\n",
        "\n",
        "\n",
        "  #프린트할때 \n",
        "  def __str__(self): \n",
        "    현재노드 = self.head\n",
        "    현재노드 = 현재노드.next # init 값 제외 \n",
        "    s=''\n",
        "\n",
        "    for i in range(self.데이터수):\n",
        "      s+= f'{현재노드.data},' #콤마 빼먹지 않기 \n",
        "      현재노드 = 현재노드.next \n",
        "\n",
        "    return f'[{s[:-2]}]' \n",
        "\n",
        "\n",
        "  def append(self, data):\n",
        "    새로운노드 = Node(data)\n",
        "    self.tail.next = 새로운노드\n",
        "    self.tail = 새로운노드 \n",
        "    self.데이터수 +=1 \n",
        "\n",
        "  def insert(self,input_index, input_data ):\n",
        "    현재노드 = self.head\n",
        "    for i in range(input_index):\n",
        "      현재노드 = 현재노드.next\n",
        "    신규노드 = Node(input_data)\n",
        "    신규노드.next = 현재노드.next \n",
        "    현재노드.next = 신규노드 \n",
        "    #원하는자리에 inputdata를 위치시킨다.\n",
        "\n",
        "  def pop(self):\n",
        "    마지막값 = self.tail.data \n",
        "    현재노드 = self.head\n",
        "\n",
        "    for i in range(self.데이터수):\n",
        "      if 현재노드.next is self.tail : \n",
        "        self.tail = 현재노드\n",
        "        break \n",
        "      현재노드 = 현재노드.next\n",
        "\n",
        "    self.데이터수 -= 1 \n",
        "    return 마지막값\n",
        "    \n",
        "  def find(self,data):\n",
        "    index = -1 #init노드때문 \n",
        "    현재노드 = self.head\n",
        "\n",
        "    for i in range(self.데이터수+1):\n",
        "      if 현재노드.data == data:\n",
        "        return index\n",
        "      index +=1 \n",
        "      현재노드 = 현재노드.next\n",
        "      \n",
        "\n",
        "    return -1 \n",
        "\n",
        "\n",
        "  def __iter__(self):\n",
        "    현재노드 = self.head\n",
        "    현재노드 = 현재노드.next # init 값 제외 \n",
        "    while 현재노드:\n",
        "      yield 현재노드.data \n",
        "      현재노드 = 현재노드.next\n",
        "\n"
      ],
      "metadata": {
        "id": "I77uzZXdiPIO"
      },
      "execution_count": null,
      "outputs": []
    },
    {
      "cell_type": "code",
      "source": [
        "l = LinkedList()\n",
        "l.append(10)\n",
        "l.append(20)\n",
        "l.append(30)\n",
        "l.append(40)\n",
        "l.append(50)\n",
        "l.append(60)\n"
      ],
      "metadata": {
        "id": "1NzM4PYAim53"
      },
      "execution_count": null,
      "outputs": []
    },
    {
      "cell_type": "code",
      "source": [
        "for i in l:\n",
        "  print(i)"
      ],
      "metadata": {
        "colab": {
          "base_uri": "https://localhost:8080/"
        },
        "id": "eY3y0DnwiouJ",
        "outputId": "21dd5ec5-d995-483f-b70a-51cf681bcdef"
      },
      "execution_count": null,
      "outputs": [
        {
          "output_type": "stream",
          "name": "stdout",
          "text": [
            "10\n",
            "20\n",
            "30\n",
            "40\n",
            "50\n",
            "60\n"
          ]
        }
      ]
    },
    {
      "cell_type": "code",
      "source": [
        "l.insert(1,15)"
      ],
      "metadata": {
        "id": "3WLYrRJPi0eO"
      },
      "execution_count": null,
      "outputs": []
    },
    {
      "cell_type": "code",
      "source": [
        "print(l)\n"
      ],
      "metadata": {
        "colab": {
          "base_uri": "https://localhost:8080/"
        },
        "id": "Vl9EddgqjfTV",
        "outputId": "8e017ac7-90ad-4d34-effe-0408a2d5501f"
      },
      "execution_count": null,
      "outputs": [
        {
          "output_type": "stream",
          "name": "stdout",
          "text": [
            "[10,15,20,30,40,5]\n"
          ]
        }
      ]
    },
    {
      "cell_type": "code",
      "source": [],
      "metadata": {
        "id": "rF7JpBKBjf8J"
      },
      "execution_count": null,
      "outputs": []
    }
  ]
}