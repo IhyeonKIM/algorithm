{
  "nbformat": 4,
  "nbformat_minor": 0,
  "metadata": {
    "colab": {
      "provenance": []
    },
    "kernelspec": {
      "name": "python3",
      "display_name": "Python 3"
    },
    "language_info": {
      "name": "python"
    }
  },
  "cells": [
    {
      "cell_type": "code",
      "execution_count": null,
      "metadata": {
        "id": "L-Qv4xygD8QV"
      },
      "outputs": [],
      "source": [
        "참고한 유튜브 강의 : https://youtu.be/D9wZxmRltEY\n",
        "\n",
        "올려두신 깃헙 코드랑 강의 보면서 따라한 것입니다"
      ]
    },
    {
      "cell_type": "markdown",
      "source": [
        "# 워밍업 / 카카오 난이도 하 "
      ],
      "metadata": {
        "id": "FV7BeY9qJBLW"
      }
    },
    {
      "cell_type": "markdown",
      "source": [
        "### 1번 워밍업 문제(google)\n",
        "1부터 10,000까지 8이라는 숫자가 총 몇번 나오는가?\n",
        "\n",
        "8이 포함되어 있는 숫자의 갯수를 카운팅 하는 것이 아니라 8이라는 숫자를 모두 카운팅 해야 한다. (※ 예를들어 8808은 3, 8888은 4로 카운팅 해야 함)\n",
        "\n",
        "문제 링크 : https://codingdojang.com/scode/393"
      ],
      "metadata": {
        "id": "TXi24fOaHpNT"
      }
    },
    {
      "cell_type": "code",
      "source": [
        "str(list(range(1,101))) # 문자 변환하면 쉽게 카운트 가능함. \n",
        "str(list(range(1,101))).count('8')"
      ],
      "metadata": {
        "id": "Gq1NCrYWHo32",
        "colab": {
          "base_uri": "https://localhost:8080/"
        },
        "outputId": "c7b38901-4eb5-4530-f8e5-18e64ecf7210"
      },
      "execution_count": null,
      "outputs": [
        {
          "output_type": "execute_result",
          "data": {
            "text/plain": [
              "20"
            ]
          },
          "metadata": {},
          "execution_count": 1
        }
      ]
    },
    {
      "cell_type": "code",
      "source": [
        "#시간 측정\n",
        "\n",
        "%%timeit\n",
        "\n",
        "str(list(range(1, 101)))\n",
        "str(list(range(1, 101))).count('8')"
      ],
      "metadata": {
        "colab": {
          "base_uri": "https://localhost:8080/"
        },
        "id": "hb00rhkUIfCn",
        "outputId": "9cd7b766-451e-48bc-d949-b6b611675655"
      },
      "execution_count": null,
      "outputs": [
        {
          "output_type": "stream",
          "name": "stdout",
          "text": [
            "18.1 µs ± 6.13 µs per loop (mean ± std. dev. of 7 runs, 100000 loops each)\n"
          ]
        }
      ]
    },
    {
      "cell_type": "code",
      "source": [
        "# 풀어서 쓰기 \n",
        "\n",
        "count = 0\n",
        "for i in range(1001):\n",
        "  if '8' in str(i):\n",
        "    count += str(i).count('8')\n",
        "\n",
        "count"
      ],
      "metadata": {
        "colab": {
          "base_uri": "https://localhost:8080/"
        },
        "id": "elOeHSF-IaWU",
        "outputId": "9aa50a16-fcbf-4072-c196-95f127cfdb7b"
      },
      "execution_count": null,
      "outputs": [
        {
          "output_type": "execute_result",
          "data": {
            "text/plain": [
              "300"
            ]
          },
          "metadata": {},
          "execution_count": 8
        }
      ]
    },
    {
      "cell_type": "code",
      "source": [
        "str(list(range(1001))).count('8')"
      ],
      "metadata": {
        "colab": {
          "base_uri": "https://localhost:8080/"
        },
        "id": "9KkcZGlWJBDF",
        "outputId": "c2b560d6-0036-452f-cfbc-8db0a24a2993"
      },
      "execution_count": null,
      "outputs": [
        {
          "output_type": "execute_result",
          "data": {
            "text/plain": [
              "300"
            ]
          },
          "metadata": {},
          "execution_count": 9
        }
      ]
    },
    {
      "cell_type": "markdown",
      "source": [
        "### 2번 워밍업 문제(daum)\n",
        "1차원의 점들이 주어졌을 때, 그 중 가장 거리가 짧은 것의 쌍을 출력하는 함수를 작성하시오. (단 점들의 배열은 모두 정렬되어있다고 가정한다.)\n",
        "\n",
        "예를들어 S = [1, 3, 4, 8, 13, 17, 20] 이 주어졌다면, 결과값은 (3, 4)가 될 것이다.\n",
        "\n",
        "문제링크 : https://codingdojang.com/scode/408"
      ],
      "metadata": {
        "id": "_d3-BgFzJoV_"
      }
    },
    {
      "cell_type": "markdown",
      "source": [
        "내가 알아야 할 것\n",
        "- *zip 함수 자유 자재로 사용하기* \n",
        "- *이렇게 두개의 쌍을 보는 문제는 zip을 활용!*"
      ],
      "metadata": {
        "id": "3OYM5VbEMvKW"
      }
    },
    {
      "cell_type": "code",
      "source": [
        "s = [1, 3, 4, 8, 13, 17, 20] "
      ],
      "metadata": {
        "id": "4UZviCwrJRYY"
      },
      "execution_count": null,
      "outputs": []
    },
    {
      "cell_type": "code",
      "source": [],
      "metadata": {
        "id": "clPGyUnpNCLI"
      },
      "execution_count": null,
      "outputs": []
    },
    {
      "cell_type": "code",
      "source": [
        "m = max(s)\n",
        "m"
      ],
      "metadata": {
        "colab": {
          "base_uri": "https://localhost:8080/"
        },
        "id": "8uP6BRrmJt9v",
        "outputId": "7f26a388-f444-46ac-c22c-a000d9d14124"
      },
      "execution_count": null,
      "outputs": [
        {
          "output_type": "execute_result",
          "data": {
            "text/plain": [
              "20"
            ]
          },
          "metadata": {},
          "execution_count": 13
        }
      ]
    },
    {
      "cell_type": "code",
      "source": [
        "index = 0 \n",
        "for i in range( len(s) - 1 ):\n",
        "  if m > s[i+1] - s[i]:\n",
        "    index = i\n",
        "    m = s[i+1] - s[i]\n",
        "\n",
        "s[index], s[index+1] # 모든 쌍을 다 돌려보고 결과값 도출.. "
      ],
      "metadata": {
        "colab": {
          "base_uri": "https://localhost:8080/"
        },
        "id": "8YMz2VBrJ2QK",
        "outputId": "badfb52d-9aba-478a-f42e-fde2bc3eb81d"
      },
      "execution_count": null,
      "outputs": [
        {
          "output_type": "execute_result",
          "data": {
            "text/plain": [
              "(3, 4)"
            ]
          },
          "metadata": {},
          "execution_count": 14
        }
      ]
    },
    {
      "cell_type": "code",
      "source": [
        "s = [1, 3, 4, 8, 13, 17, 20] \n",
        "ss = [  3, 4, 8, 13, 17, 20]  # 1빼고 "
      ],
      "metadata": {
        "id": "7e_w3PWRKmZx"
      },
      "execution_count": null,
      "outputs": []
    },
    {
      "cell_type": "code",
      "source": [
        "list(zip(s,ss))"
      ],
      "metadata": {
        "colab": {
          "base_uri": "https://localhost:8080/"
        },
        "id": "bT20WP7MK25S",
        "outputId": "bd874ab8-cdbc-4899-d367-f2198393d8ad"
      },
      "execution_count": null,
      "outputs": [
        {
          "output_type": "execute_result",
          "data": {
            "text/plain": [
              "[(1, 3), (3, 4), (4, 8), (8, 13), (13, 17), (17, 20)]"
            ]
          },
          "metadata": {},
          "execution_count": 17
        }
      ]
    },
    {
      "cell_type": "code",
      "source": [
        "sorted(list(zip(s,ss)), key =lambda i :i[1]) #두번째값 기준으로 정렬 "
      ],
      "metadata": {
        "colab": {
          "base_uri": "https://localhost:8080/"
        },
        "id": "ZHH1oR8xKstR",
        "outputId": "35698a82-10ec-469b-b336-71b866b21a15"
      },
      "execution_count": null,
      "outputs": [
        {
          "output_type": "execute_result",
          "data": {
            "text/plain": [
              "[(1, 3), (3, 4), (4, 8), (8, 13), (13, 17), (17, 20)]"
            ]
          },
          "metadata": {},
          "execution_count": 18
        }
      ]
    },
    {
      "cell_type": "code",
      "source": [
        "def diff_num(i):\n",
        "  return i[1] - i[0]\n",
        "\n",
        "sorted(list(zip(s,ss)), key = diff_num)"
      ],
      "metadata": {
        "colab": {
          "base_uri": "https://localhost:8080/"
        },
        "id": "OjN8Tq--LGfm",
        "outputId": "3fba0d3d-2e0b-477e-c942-f114759c84d1"
      },
      "execution_count": null,
      "outputs": [
        {
          "output_type": "execute_result",
          "data": {
            "text/plain": [
              "[(3, 4), (1, 3), (17, 20), (4, 8), (13, 17), (8, 13)]"
            ]
          },
          "metadata": {},
          "execution_count": 19
        }
      ]
    },
    {
      "cell_type": "code",
      "source": [
        "sorted(list(zip(s,ss)), key = diff_num)[0] #답 "
      ],
      "metadata": {
        "colab": {
          "base_uri": "https://localhost:8080/"
        },
        "id": "c09tMc8kLuOc",
        "outputId": "a32ded45-ff64-4266-949a-8be175595141"
      },
      "execution_count": null,
      "outputs": [
        {
          "output_type": "execute_result",
          "data": {
            "text/plain": [
              "(3, 4)"
            ]
          },
          "metadata": {},
          "execution_count": 20
        }
      ]
    },
    {
      "cell_type": "markdown",
      "source": [
        "### 3번 카카오 2018 공채 문제 1번\n",
        "- 문제는 한 해 전에 공개됩니다. 예를 들어 2020 공채라면 19년에 시험을 보기 때문입니다.\n",
        "- 링크 : https://tech.kakao.com/2017/09/27/kakao-blind-recruitment-round-1/"
      ],
      "metadata": {
        "id": "4z7clPujL1pv"
      }
    },
    {
      "cell_type": "markdown",
      "source": [
        "문제 이해부터가 중요하다. \n",
        "*(쌤은 OR연산이라고 하심)* \n",
        "\n",
        "**내가 알아야할것**\n",
        "- *OR연산*\n",
        "- 숫자를 이진법으로 바꿔주는 ```bin```함수 \n",
        "- replace 함수 \n",
        "- zfill함수 (*zfill(n): 파이썬 문자열 앞 공백 0으로 채우기(내가 원하는 자릿수 n ))\n",
        "\n",
        "---"
      ],
      "metadata": {
        "id": "Y67H-WFjMp0D"
      }
    },
    {
      "cell_type": "code",
      "source": [
        "bin(9)"
      ],
      "metadata": {
        "colab": {
          "base_uri": "https://localhost:8080/",
          "height": 35
        },
        "id": "FM7Gp_n3L6BJ",
        "outputId": "ef813422-8be4-4ac0-8a67-fe2785a4399b"
      },
      "execution_count": null,
      "outputs": [
        {
          "output_type": "execute_result",
          "data": {
            "text/plain": [
              "'0b1001'"
            ],
            "application/vnd.google.colaboratory.intrinsic+json": {
              "type": "string"
            }
          },
          "metadata": {},
          "execution_count": 21
        }
      ]
    },
    {
      "cell_type": "code",
      "source": [
        "bin(30)"
      ],
      "metadata": {
        "colab": {
          "base_uri": "https://localhost:8080/",
          "height": 35
        },
        "id": "OmahuJBXNNR0",
        "outputId": "37931033-b2ab-4122-b878-9f7d472b4f6b"
      },
      "execution_count": null,
      "outputs": [
        {
          "output_type": "execute_result",
          "data": {
            "text/plain": [
              "'0b11110'"
            ],
            "application/vnd.google.colaboratory.intrinsic+json": {
              "type": "string"
            }
          },
          "metadata": {},
          "execution_count": 22
        }
      ]
    },
    {
      "cell_type": "code",
      "source": [
        "# 9와 30만을 놓고 봤을때.\n",
        "\n",
        "#  1001\n",
        "# 11110 \n",
        "# ------\n",
        "# 11111 로 연산이 나올 수 있어야함."
      ],
      "metadata": {
        "id": "wpldBjf0NRzP"
      },
      "execution_count": null,
      "outputs": []
    },
    {
      "cell_type": "code",
      "source": [
        "9|30"
      ],
      "metadata": {
        "colab": {
          "base_uri": "https://localhost:8080/"
        },
        "id": "Q8y9_ERNN1me",
        "outputId": "dabed939-7aa1-4b12-e03f-db2ae80ba72c"
      },
      "execution_count": null,
      "outputs": [
        {
          "output_type": "execute_result",
          "data": {
            "text/plain": [
              "31"
            ]
          },
          "metadata": {},
          "execution_count": 24
        }
      ]
    },
    {
      "cell_type": "code",
      "source": [
        "bin(9|30) # 이진연산 | "
      ],
      "metadata": {
        "colab": {
          "base_uri": "https://localhost:8080/",
          "height": 35
        },
        "id": "jZ1Ct1fSNpNL",
        "outputId": "d3864d04-5fba-4c6c-a047-fb66dc76a3de"
      },
      "execution_count": null,
      "outputs": [
        {
          "output_type": "execute_result",
          "data": {
            "text/plain": [
              "'0b11111'"
            ],
            "application/vnd.google.colaboratory.intrinsic+json": {
              "type": "string"
            }
          },
          "metadata": {},
          "execution_count": 25
        }
      ]
    },
    {
      "cell_type": "code",
      "source": [
        "bin(9 | 30)[2:].replace('1', '#').replace('0', ' ')\n",
        "# 1을 #로 바꿔줌 \n",
        "# 중간에 0이 들어가면 그건 공백으로 "
      ],
      "metadata": {
        "colab": {
          "base_uri": "https://localhost:8080/",
          "height": 35
        },
        "id": "g5WK2rUDODi0",
        "outputId": "3127ea3e-1309-4b13-e578-4996c4499cd0"
      },
      "execution_count": null,
      "outputs": [
        {
          "output_type": "execute_result",
          "data": {
            "text/plain": [
              "'#####'"
            ],
            "application/vnd.google.colaboratory.intrinsic+json": {
              "type": "string"
            }
          },
          "metadata": {},
          "execution_count": 26
        }
      ]
    },
    {
      "cell_type": "code",
      "source": [
        "arr1 = [9, 20, 28, 18, 11]\n",
        "arr2 = [30, 1, 21, 17, 28]\n",
        "\n",
        "for i in zip(arr1,arr2):\n",
        "  print(i)"
      ],
      "metadata": {
        "colab": {
          "base_uri": "https://localhost:8080/"
        },
        "id": "J25WFprPNybJ",
        "outputId": "f1bb8368-8b1c-4e9c-b06e-231f2280c283"
      },
      "execution_count": null,
      "outputs": [
        {
          "output_type": "stream",
          "name": "stdout",
          "text": [
            "(9, 30)\n",
            "(20, 1)\n",
            "(28, 21)\n",
            "(18, 17)\n",
            "(11, 28)\n"
          ]
        }
      ]
    },
    {
      "cell_type": "code",
      "source": [
        "for i,j in zip(arr1,arr2):\n",
        "  print(i,j) # unpacking "
      ],
      "metadata": {
        "colab": {
          "base_uri": "https://localhost:8080/"
        },
        "id": "d6QY235dOIDw",
        "outputId": "d1becdbe-8f8e-40d9-a8dd-44c3dd0779e0"
      },
      "execution_count": null,
      "outputs": [
        {
          "output_type": "stream",
          "name": "stdout",
          "text": [
            "9 30\n",
            "20 1\n",
            "28 21\n",
            "18 17\n",
            "11 28\n"
          ]
        }
      ]
    },
    {
      "cell_type": "code",
      "source": [
        "for i,j in zip(arr1,arr2):\n",
        "  print(bin(i | j)[2:].replace('1', '#').replace('0', ' '))"
      ],
      "metadata": {
        "colab": {
          "base_uri": "https://localhost:8080/"
        },
        "id": "27ftDwAHOkov",
        "outputId": "f7efc464-bb55-4ff3-ad7a-c11809a70dce"
      },
      "execution_count": null,
      "outputs": [
        {
          "output_type": "stream",
          "name": "stdout",
          "text": [
            "#####\n",
            "# # #\n",
            "### #\n",
            "#  ##\n",
            "#####\n"
          ]
        }
      ]
    },
    {
      "cell_type": "code",
      "source": [
        "#  11  3 \n",
        "# 101  5 \n",
        "# ---\n",
        "# 111 "
      ],
      "metadata": {
        "id": "r8SlEm9SPd81"
      },
      "execution_count": null,
      "outputs": []
    },
    {
      "cell_type": "code",
      "source": [
        "arr1 = [3, 20, 28, 18, 11]\n",
        "arr2 = [5, 1, 21, 17, 28]\n",
        "\n",
        "for i,j in zip(arr1,arr2):\n",
        "  print(bin(i | j)[2:].replace('1', '#').replace('0', ' '))"
      ],
      "metadata": {
        "colab": {
          "base_uri": "https://localhost:8080/"
        },
        "id": "Cc7D7QUpQW5S",
        "outputId": "e80cc8aa-d708-4ea4-9099-3091e85c20fa"
      },
      "execution_count": null,
      "outputs": [
        {
          "output_type": "stream",
          "name": "stdout",
          "text": [
            "###\n",
            "# # #\n",
            "### #\n",
            "#  ##\n",
            "#####\n"
          ]
        }
      ]
    },
    {
      "cell_type": "markdown",
      "source": [
        "3,5로 봤을 때 자릿수가 안맞음. 이걸 해결하기 위해서 zfill 메소드를 활용 \n",
        "\n",
        "*zfill(n): 파이썬 문자열 앞 공백 0으로 채우기(내가 원하는 자릿수 n )  \n"
      ],
      "metadata": {
        "id": "5Khp3NfCQcTd"
      }
    },
    {
      "cell_type": "code",
      "source": [],
      "metadata": {
        "id": "ei2tCelARPes"
      },
      "execution_count": null,
      "outputs": []
    },
    {
      "cell_type": "code",
      "source": [
        "arr1 = [3, 20, 28, 18, 11]\n",
        "arr2 = [5, 1, 21, 17, 28]\n",
        "\n",
        "n = 5\n",
        "\n",
        "for i,j in zip(arr1,arr2):\n",
        "  print('자릿수맞추기 이전 : ', bin(i | j)[2:])\n",
        "  print('자릿수맞추기 이후 : ',bin(i | j)[2:].zfill(n))\n",
        "  print(\"---\")"
      ],
      "metadata": {
        "colab": {
          "base_uri": "https://localhost:8080/"
        },
        "id": "l4LTkpfsP_Am",
        "outputId": "645e3070-9fe3-4cf5-9a73-16c1aab3f75a"
      },
      "execution_count": null,
      "outputs": [
        {
          "output_type": "stream",
          "name": "stdout",
          "text": [
            "자릿수맞추기 이전 :  111\n",
            "자릿수맞추기 이후 :  00111\n",
            "---\n",
            "자릿수맞추기 이전 :  10101\n",
            "자릿수맞추기 이후 :  10101\n",
            "---\n",
            "자릿수맞추기 이전 :  11101\n",
            "자릿수맞추기 이후 :  11101\n",
            "---\n",
            "자릿수맞추기 이전 :  10011\n",
            "자릿수맞추기 이후 :  10011\n",
            "---\n",
            "자릿수맞추기 이전 :  11111\n",
            "자릿수맞추기 이후 :  11111\n",
            "---\n"
          ]
        }
      ]
    },
    {
      "cell_type": "code",
      "source": [
        "for i, j in zip(arr1, arr2):\n",
        "    print(bin(i | j)[2:].zfill(n).replace('1', '#').replace('0', ' '))"
      ],
      "metadata": {
        "colab": {
          "base_uri": "https://localhost:8080/"
        },
        "id": "86OcUnbjQsOE",
        "outputId": "156d9f17-bc7c-4cc8-a9a2-f16a5ab0df7f"
      },
      "execution_count": null,
      "outputs": [
        {
          "output_type": "stream",
          "name": "stdout",
          "text": [
            "  ###\n",
            "# # #\n",
            "### #\n",
            "#  ##\n",
            "#####\n"
          ]
        }
      ]
    },
    {
      "cell_type": "code",
      "source": [
        "def sol(n,arr1,arr2):\n",
        "  answer = []\n",
        "  for i, j in zip(arr1, arr2):\n",
        "    ans = bin(i | j)[2:].zfill(n).replace('1', '#').replace('0', ' ')\n",
        "    answer.append(ans)\n",
        "  return answer "
      ],
      "metadata": {
        "id": "x9DQWdBPRX7A"
      },
      "execution_count": null,
      "outputs": []
    },
    {
      "cell_type": "code",
      "source": [
        "testcase = [(5, [9, 20, 28, 18, 11], [30, 1, 21, 17, 28]), \n",
        "            (5, [9, 3, 28, 18, 11], [30, 1, 21, 17, 28]),\n",
        "            (6, [46, 33, 33 ,22, 31, 50], [27 ,56, 19, 14, 14, 10])]\n",
        "\n",
        "for i, j, k in testcase:\n",
        "    print(sol(i, j, k))"
      ],
      "metadata": {
        "colab": {
          "base_uri": "https://localhost:8080/"
        },
        "id": "txETK5wsR8kz",
        "outputId": "14f8bb97-4709-40ec-aff4-2bb0402a42a2"
      },
      "execution_count": null,
      "outputs": [
        {
          "output_type": "stream",
          "name": "stdout",
          "text": [
            "['#####', '# # #', '### #', '#  ##', '#####']\n",
            "['#####', '   ##', '### #', '#  ##', '#####']\n",
            "['######', '###  #', '##  ##', ' #### ', ' #####', '### # ']\n"
          ]
        }
      ]
    },
    {
      "cell_type": "code",
      "source": [],
      "metadata": {
        "id": "vYctYzOPW7d0"
      },
      "execution_count": null,
      "outputs": []
    },
    {
      "cell_type": "code",
      "source": [],
      "metadata": {
        "id": "asujbTrZSA0q"
      },
      "execution_count": null,
      "outputs": []
    },
    {
      "cell_type": "markdown",
      "source": [
        "### 3번 2018 카카오 입사문제 2번\n",
        "https://tech.kakao.com/2017/09/27/kakao-blind-recruitment-round-1/"
      ],
      "metadata": {
        "id": "W2jo67ztWpMh"
      }
    },
    {
      "cell_type": "markdown",
      "source": [
        "카카오톡 게임별의 하반기 신규 서비스로 다트 게임을 출시하기로 했다. 다트 게임은 다트판에 다트를 세 차례 던져 그 점수의 합계로 실력을 겨루는 게임으로, 모두가 간단히 즐길 수 있다.\n",
        "갓 입사한 무지는 코딩 실력을 인정받아 게임의 핵심 부분인 점수 계산 로직을 맡게 되었다. 다트 게임의 점수 계산 로직은 아래와 같다.\n",
        "\n",
        "\n",
        "---\n",
        "\n",
        "\n",
        "다트 게임은 총 3번의 기회로 구성된다.\n",
        "\n",
        "각 기회마다 얻을 수 있는 점수는 0점에서 10점까지이다.\n",
        "\n",
        "\n",
        "* 점수와 함께 Single(S), Double(D), Triple(T) 영역이 존재하고 각 영역 당첨 시 점수에서 1제곱, 2제곱, 3제곱 (점수^1 , 점수^2 , 점수^3 )으로 계산된다.\n",
        "\n",
        "- 옵션으로 스타상(*) , 아차상(#)이 존재하며 스타상(*) 당첨 시 해당 점수와 바로 전에 얻은 점수를 각 2배로 만든다. 아차상(#) 당첨 시 해당 점수는 마이너스된다.\n",
        "- 스타상(*)은 첫 번째 기회에서도 나올 수 있다. 이 경우 첫 번째 스타상(*)의 점수만 2배가 된다. (예제 4번 참고)\n",
        "- 스타상(*)의 효과는 다른 스타상(*)의 효과와 중첩될 수 있다. 이 경우 중첩된 스타상(*) 점수는 4배가 된다. (예제 4번 참고)\n",
        "- 스타상(*)의 효과는 아차상(#)의 효과와 중첩될 수 있다. 이 경우 중첩된 아차상(#)의 점수는 -2배가 된다. (예제 5번 참고)\n",
        "- Single(S), Double(D), Triple(T)은 점수마다 하나씩 존재한다.\n",
        "스타상(*), 아차상(#)은 점수마다 둘 중 하나만 존재할 수 있으며, 존재하지 않을 수도 있다.\n",
        "0~10의 정수와 문자 S, D, T, *, #로 구성된 문자열이 입력될 시 총점수를 반환하는 함수를 작성하라.\n",
        "\n",
        "\n",
        "---\n",
        "\n",
        "<입력 형식>\n",
        "\n",
        "“점수|보너스|[옵션]”으로 이루어진 문자열 3세트.\n",
        "예) 1S2D*3T\n",
        "\n",
        "- 점수는 0에서 10 사이의 정수이다.\n",
        "- 보너스는 S, D, T 중 하나이다.\n",
        "- 옵선은 *이나 # 중 하나이며, 없을 수도 있다.\n",
        "\n",
        "\n",
        "<출력 형식>\n",
        "\n",
        "3번의 기회에서 얻은 점수 합계에 해당하는 정수값을 출력한다.\n",
        "예) 37\n",
        "\n",
        "\n",
        "\n",
        "```\n",
        "# 함수 구성 \n",
        "\n",
        "def solution(dartResult):\n",
        "    점수 = []\n",
        "    for i in dartResult:\n",
        "        if i == 'S':\n",
        "            pass\n",
        "        if i == 'D':\n",
        "            pass\n",
        "        if i == 'T':\n",
        "            pass\n",
        "        if i == '*':\n",
        "            pass\n",
        "        if i == '#':\n",
        "            pass\n",
        "        else:\n",
        "            pass\n",
        "\n",
        "```"
      ],
      "metadata": {
        "id": "7Rsr2UnNXQpH"
      }
    },
    {
      "cell_type": "markdown",
      "source": [
        "---\n",
        "\n",
        "**내가 얻어갈 부분**\n",
        "- *파이썬 문자열 슬라이싱 명확하게 이해하기..!! 자꾸 헷갈림.*\n",
        "- ```enumerate(list , 1)```*이런식으로 1을 써주면 인덱스가 1부터 저장됨..! 신세계*\n",
        "- *정규표현식 쓰는법 익히기*\n",
        "\n",
        "\n",
        "\n",
        "---\n",
        "\n"
      ],
      "metadata": {
        "id": "yFxHXXTcnek3"
      }
    },
    {
      "cell_type": "markdown",
      "source": [
        "주의해야할 부분: \n",
        "숫자를 하나씩 읽도록 짰기 때문에 0 과 10에 대해서 명확히 구분해줄 필요가 있음. \n",
        "\n",
        "```\n",
        "if dartResult[num-1:num+1] == \"10\": #두개씩 슬라이싱\n",
        "            ans.append(10)\n",
        "          elif dartResult[num-2:num+1] != \"10\":\n",
        "            ans.append(int(i))\n",
        "\n",
        " ```"
      ],
      "metadata": {
        "id": "0b4V0p51bS5d"
      }
    },
    {
      "cell_type": "code",
      "source": [
        "def solution(dartResult):\n",
        "    ans = []\n",
        "    for num,i in enumerate(dartResult,1):\n",
        "        if i == 'S':\n",
        "            ans[-1]**=1\n",
        "        elif i == 'D':\n",
        "            ans[-1]**=2\n",
        "        elif i == 'T':\n",
        "            ans[-1]**=3\n",
        "        elif i == '*':\n",
        "            ans[-1]*=2 # 2배\n",
        "            if len(ans) == 2:\n",
        "              ans[-2]*=2\n",
        "\n",
        "        elif i == '#':\n",
        "            ans[-1]*=-1\n",
        "        else:\n",
        "          if dartResult[num-1:num+1] == \"10\": #두개씩 슬라이싱\n",
        "            ans.append(10)\n",
        "          elif dartResult[num-2:num+1] != \"10\":\n",
        "            ans.append(int(i))\n",
        "\n",
        "    return sum(ans) \n",
        "\n",
        "print(solution('1S2D*3T'))"
      ],
      "metadata": {
        "colab": {
          "base_uri": "https://localhost:8080/"
        },
        "id": "Gwl84aXXWqP0",
        "outputId": "3fe5b631-5e18-48b5-f5bb-1ede8ac0dc5f"
      },
      "execution_count": null,
      "outputs": [
        {
          "output_type": "stream",
          "name": "stdout",
          "text": [
            "37\n"
          ]
        }
      ]
    },
    {
      "cell_type": "code",
      "source": [
        "def solution(dartResult):\n",
        "    ans = []\n",
        "    for num,i in enumerate(dartResult,1):\n",
        "        if i == 'S':\n",
        "            ans[-1]**=1\n",
        "        elif i == 'D':\n",
        "            ans[-1]**=2\n",
        "        elif i == 'T':\n",
        "            ans[-1]**=3\n",
        "        elif i == '*':\n",
        "            ans[-1]*=2 # 2배\n",
        "            if len(ans) == 2:\n",
        "              ans[-2]*=2\n",
        "\n",
        "        elif i == '#':\n",
        "            ans[-1]*=-1\n",
        "        else:\n",
        "          if dartResult[num-1:num+1] == \"10\": #두개씩 슬라이싱\n",
        "            ans.append(10)\n",
        "          elif dartResult[num-2:num] != \"10\":\n",
        "            ans.append(int(i))\n",
        "\n",
        "    return ans\n",
        "\n",
        "print(solution('10S10D*3T'))"
      ],
      "metadata": {
        "colab": {
          "base_uri": "https://localhost:8080/"
        },
        "id": "Iwdov9Y1YQj2",
        "outputId": "d34f5d3a-4736-48d5-b00e-d61431d7c29d"
      },
      "execution_count": null,
      "outputs": [
        {
          "output_type": "stream",
          "name": "stdout",
          "text": [
            "[20, 200, 27]\n"
          ]
        }
      ]
    },
    {
      "cell_type": "markdown",
      "source": [
        "코드 해석해보기(0인지 10인지 판별하는 과정이 중요!) "
      ],
      "metadata": {
        "id": "L4bilf7ZdKhS"
      }
    },
    {
      "cell_type": "code",
      "source": [
        "for num,i in enumerate('10S10D*3T',1): #인덱스가 1부터 시작함\n",
        "  print(num,i)"
      ],
      "metadata": {
        "colab": {
          "base_uri": "https://localhost:8080/"
        },
        "id": "O3SJXHrbc7aT",
        "outputId": "25847bb4-abb5-4797-9816-4fe5f23173a8"
      },
      "execution_count": null,
      "outputs": [
        {
          "output_type": "stream",
          "name": "stdout",
          "text": [
            "1 1\n",
            "2 0\n",
            "3 S\n",
            "4 1\n",
            "5 0\n",
            "6 D\n",
            "7 *\n",
            "8 3\n",
            "9 T\n"
          ]
        }
      ]
    },
    {
      "cell_type": "code",
      "source": [
        "# 처음 num = 1부터 시작이므로, else문에 들어갔을 때 \n",
        "# '10S10D*3T'[0:2]를 뽑아냄. -> 10이므로 10으로 append 됨. \n",
        "\n",
        "'10S10D*3T'[0:2]"
      ],
      "metadata": {
        "colab": {
          "base_uri": "https://localhost:8080/",
          "height": 35
        },
        "id": "hG7Jsk0scQSl",
        "outputId": "c0dfba41-af51-452e-b2fb-ecbc0a9902e5"
      },
      "execution_count": null,
      "outputs": [
        {
          "output_type": "execute_result",
          "data": {
            "text/plain": [
              "'10'"
            ],
            "application/vnd.google.colaboratory.intrinsic+json": {
              "type": "string"
            }
          },
          "metadata": {},
          "execution_count": 63
        }
      ]
    },
    {
      "cell_type": "code",
      "source": [
        "'10S10D*3T'[-2:1] #이전 자리도 보고 10이랑 다르면 해당 숫자를 어팬드함, 0인지 아닌지를 확인하는 과정. "
      ],
      "metadata": {
        "colab": {
          "base_uri": "https://localhost:8080/",
          "height": 35
        },
        "id": "DziWNYSrdXuO",
        "outputId": "45dfbf5c-196d-4dcc-fbe5-9f8ff8a4010e"
      },
      "execution_count": null,
      "outputs": [
        {
          "output_type": "execute_result",
          "data": {
            "text/plain": [
              "''"
            ],
            "application/vnd.google.colaboratory.intrinsic+json": {
              "type": "string"
            }
          },
          "metadata": {},
          "execution_count": 64
        }
      ]
    },
    {
      "cell_type": "code",
      "source": [
        "#예를 들면 두번째 포인트가 0이라고 볼때, . \n",
        "'10S0D*3T'[2:4] # 10이 아닌 S0이므로, 0점이 들어가게 되는 것. "
      ],
      "metadata": {
        "colab": {
          "base_uri": "https://localhost:8080/",
          "height": 35
        },
        "id": "f6FX-udNd340",
        "outputId": "5d7d89b0-4e91-41a4-f91b-b307dd555a4a"
      },
      "execution_count": null,
      "outputs": [
        {
          "output_type": "execute_result",
          "data": {
            "text/plain": [
              "'S0'"
            ],
            "application/vnd.google.colaboratory.intrinsic+json": {
              "type": "string"
            }
          },
          "metadata": {},
          "execution_count": 66
        }
      ]
    },
    {
      "cell_type": "code",
      "source": [],
      "metadata": {
        "id": "nDc9AA2acqqy"
      },
      "execution_count": null,
      "outputs": []
    },
    {
      "cell_type": "markdown",
      "source": [
        "정규표현식으로 풀어보기 \n",
        "\n",
        "참고 링크 : https://brownbears.tistory.com/506\n",
        "\n",
        "https://engineer-mole.tistory.com/189\n",
        "\n",
        "```\n",
        "\n",
        "import re\n",
        "\n",
        "s = 'aaa@xxx.com, bbb@yyy.com, ccc@zzz.net'\n",
        "\n",
        "m = re.match(r'([a-z]+)@([a-z]+)\\.com', s)\n",
        "print(m)\n",
        "# <re.Match object; span=(0, 11), match='aaa@xxx.com'>\n",
        "\n",
        "result = re.sub(r'([a-z]+)@([a-z]+)\\.com', 'new-address', s)\n",
        "print(result)\n",
        "# new-address, new-address, ccc@zzz.net\n",
        "\n",
        "\n",
        "```"
      ],
      "metadata": {
        "id": "1eqO3CbLeSiO"
      }
    },
    {
      "cell_type": "code",
      "source": [
        "import re\n",
        "\n",
        "testcase = ['1S2D*3T', '1D2S#10S']\n",
        "패턴 = re.compile(r'([0-9]|10)([SDT])([\\*\\#]?)')\n",
        "패턴.findall(testcase[1])\n",
        "\n",
        "#이렇게 되면 순회하면서 풀면됨"
      ],
      "metadata": {
        "colab": {
          "base_uri": "https://localhost:8080/"
        },
        "id": "zigNv5DJfXgS",
        "outputId": "576a6a7d-00e6-488a-b924-e8ba02545f6e"
      },
      "execution_count": null,
      "outputs": [
        {
          "output_type": "execute_result",
          "data": {
            "text/plain": [
              "[('1', 'D', ''), ('2', 'S', '#'), ('10', 'S', '')]"
            ]
          },
          "metadata": {},
          "execution_count": 67
        }
      ]
    },
    {
      "cell_type": "code",
      "source": [
        "###################\n",
        "#나혼자 함수 짜보기\n",
        "###################\n",
        "\n",
        "def solution(dartResult):\n",
        "    ans = []\n",
        "    패턴 = re.compile(r'([0-9]|10)([SDT])([\\*\\#]?)')\n",
        "    res_list = 패턴.findall(dartResult)\n",
        "\n",
        "    for 숫자,승수,상 in res_list:\n",
        "        if 승수 == 'S':\n",
        "            ans.append(int(숫자)**1)\n",
        "        elif 승수 == 'D':\n",
        "            ans.append(int(숫자)**2)\n",
        "        elif 승수 == 'T':\n",
        "            ans.append(int(숫자)**3)\n",
        "\n",
        "        if 상 == '*':\n",
        "            ans[-1]*=2 # 2배\n",
        "            if len(ans) == 2: # 이부분은 같으니 유의! (중첩되어 2배 해주는 것)\n",
        "              ans[-2]*=2\n",
        "        elif 상 == '#':\n",
        "            ans[-1]*=-1\n",
        "    #print(ans)\n",
        "    return sum(ans)\n",
        "\n",
        "print(solution('1S2D*3T'))"
      ],
      "metadata": {
        "colab": {
          "base_uri": "https://localhost:8080/"
        },
        "id": "tI65oYk0ikTd",
        "outputId": "35efe198-844c-44e2-eae7-ecb11ff26c0b"
      },
      "execution_count": null,
      "outputs": [
        {
          "output_type": "stream",
          "name": "stdout",
          "text": [
            "[2, 8, 27]\n",
            "37\n"
          ]
        }
      ]
    },
    {
      "cell_type": "markdown",
      "source": [
        "계산식을 Dict 형태로 만들어서 풀 수 있다. "
      ],
      "metadata": {
        "id": "XsQTZ-drlixm"
      }
    },
    {
      "cell_type": "code",
      "source": [
        "##선생님이 푼 방식\n",
        "\n",
        "def solution(dartResult):\n",
        "    패턴 = re.compile(r'([0-9]|10)([SDT])([\\*\\#]?)')\n",
        "    answer = []\n",
        "    계산식 = {\n",
        "        'S':lambda 값:값, \n",
        "        'D':lambda 값:값**2, \n",
        "        'T':lambda 값:값**3\n",
        "    }\n",
        "    for 숫자, 승수, 상 in 패턴.findall(dartResult):\n",
        "        #print(숫자, 승수, 상)\n",
        "        if 승수 == 'S':\n",
        "            점수 = 계산식['S'](int(숫자))\n",
        "        elif 승수 == 'D':\n",
        "            점수 = 계산식['D'](int(숫자))\n",
        "        elif 승수 == 'T':\n",
        "            점수 = 계산식['T'](int(숫자))\n",
        "        if 상 == '*':\n",
        "            점수 *= 2\n",
        "            if answer:\n",
        "                answer[-1] *= 2\n",
        "        elif 상 == '#':\n",
        "            점수 *= -1\n",
        "        answer.append(점수)\n",
        "    \n",
        "    return sum(answer)\n",
        "            \n",
        "print(solution('1S2D*3T'))"
      ],
      "metadata": {
        "colab": {
          "base_uri": "https://localhost:8080/"
        },
        "id": "G_RyR0eJiku2",
        "outputId": "5bfce592-01ee-4099-b80e-a7cf8425a889"
      },
      "execution_count": null,
      "outputs": [
        {
          "output_type": "stream",
          "name": "stdout",
          "text": [
            "37\n"
          ]
        }
      ]
    },
    {
      "cell_type": "markdown",
      "source": [
        "### 5번 카카오 2018 공채 문제 3번: 캐시(난이도: 하)\n",
        "지도개발팀에서 근무하는 제이지는\n",
        "\n",
        "\"지도에서 도시 이름을 검색하면 해당 도시와 관련된 맛집 게시물들을 데이터베이스에서 읽어 보여주는 서비스\"를 개발하고 있다.\n",
        "\n",
        "이 프로그램의 테스팅 업무를 담당하고 있는 어피치는 서비스를 오픈하기 전 각 로직에 대한 성능 측정을 수행하였는데, 제이지가 작성한 부분 중 데이터베이스에서 게시물을 가져오는 부분의 실행시간이 너무 오래 걸린다는 것을 알게 되었다.\n",
        "\n",
        "어피치는 제이지에게 해당 로직을 개선하라고 닦달하기 시작하였고,\n",
        "\n",
        "제이지는 DB 캐시를 적용하여 성능 개선을 시도하고 있지만 캐시 크기를 얼마로 해야 효율적인지 몰라 난감한 상황이다.\n",
        "\n",
        "\n",
        "**어피치에게 시달리는 제이지를 도와, DB 캐시를 적용할 때 캐시 크기에 따른 실행시간 측정 프로그램을 작성하시오.**\n",
        "\n",
        "---\n",
        "\n",
        "#### 입력 형식\n",
        "- 캐시 크기(cacheSize)와 도시이름 배열(cities)을 입력받는다.\n",
        "- cacheSize는 정수이며, 범위는 0 ≦ cacheSize ≦ 30 이다.\n",
        "- cities는 도시 이름으로 이뤄진 문자열 배열로, 최대 도시 수는 100,000개이다.\n",
        "- 각 도시 이름은 공백, 숫자, 특수문자 등이 없는 영문자로 구성되며, 대소문자 구분을 하지 않는다. 도시 이름은 최대 20자로 이루어져 있다.\n",
        "\n",
        "#### 출력 형식\n",
        "- 입력된 도시이름 배열을 순서대로 처리할 때, “총 실행시간”을 출력한다.\n",
        "\n",
        "##### 조건\n",
        "- **캐시 교체 알고리즘**은 LRU(Least Recently Used)를 사용한다.\n",
        "- cache hit일 경우 실행시간은 1이다.\n",
        "- cache miss일 경우 실행시간은 5이다."
      ],
      "metadata": {
        "id": "3E1DtTslmfuH"
      }
    },
    {
      "cell_type": "markdown",
      "source": [
        "---\n",
        "알아야 할 것. \n",
        "- *일단 캐시 교체 알고리즘을 알아야 할듯*\n",
        "\n",
        "---"
      ],
      "metadata": {
        "id": "4dnRupr6nUk1"
      }
    },
    {
      "cell_type": "markdown",
      "source": [
        "#### (참고)캐시교체알고리즘 \n",
        "https://hwiyong.tistory.com/398\n",
        "\n",
        "사용자에게 빠르게 정보를 제공하기 위해 사용하는 캐시에서 새로운 데이터가 발생했을 때, 가장 오래전에 사용된 데이터를 제거하고 새로운 데이터를 삽입하는 알고리즘입니다.\n",
        "\n",
        "\n",
        "- 새로운 데이터가 들어온 경우 -> 캐시에 넣어준다.\n",
        "- 캐시가 가득차있다면, 가장 오래된 데이터를 제거하고 넣어준다.\n",
        "- 존재하는 데이터가 들어온 경우 -> 해당 데이터를 꺼낸 뒤,가장 최근 데이터 위치로 보내준다.\n",
        "\n",
        "\n",
        "파이썬으로 구현하면 다음과 같습니다.\n",
        "```\n",
        "cache_Size = 5\n",
        "cache = [1, 2, 3, 4, 5]\n",
        "user_data = [3, 7, 2]\n",
        "\n",
        "for data in user_data:\n",
        "\t# Miss!\n",
        "\tif data not in cache:\n",
        "\t\tif len(cache) < cacheSize:\n",
        "\t\t\tcache.append(data) \n",
        "\t\telse:\n",
        "\t\t\tcache.pop(0) # 캐시가 가득 찼기 때문에 우선 첫 번째 데이터를 제거\n",
        "\t\t\tcache.append(data)\n",
        "\t# Hit!\n",
        "\telse:\n",
        "\t\tcache.pop(cache.index(data))\n",
        "\t\tcache.append(data)\n",
        "\n",
        "# 캐시 결과 확인\n",
        "print(cache) # [4, 5, 3, 7, 2]\n",
        "\n",
        "\n",
        "```\n",
        "\n",
        "결과를 쫓아가보면,\n",
        "\n",
        "- 3은 캐시에 존재합니다. 따라서 최근 위치로 옮겨줍니다. --> `[1, 2, 4, 5, 3]`\n",
        "\n",
        "- 7은 새로운 데이터 입니다. 하지만 그대로 넣어주면 cacheSize를 넘어가므로 가장 오래된 데이터 1을 제거하고 넣어줍니다.\n",
        "--> `[2, 4, 5, 3, 7]`\n",
        "\n",
        "- 2는 캐시에 존재합니다. 따라서 최근 위치로 옮겨줍니다. --> `[4, 5, 3, 7, 2]`"
      ],
      "metadata": {
        "id": "oqMoPbT7owId"
      }
    },
    {
      "cell_type": "code",
      "source": [
        "도시이름 = ['Jeju', 'Pangyo', 'Seoul', 'NewYork', 'LA', 'Jeju', 'Pangyo', 'Seoul', 'NewYork', 'LA']"
      ],
      "metadata": {
        "id": "WERmIEt2qJYV"
      },
      "execution_count": null,
      "outputs": []
    },
    {
      "cell_type": "code",
      "source": [
        "#캐시크기 3임. \n",
        "\n",
        "['Jeju', 'Pangyo', 'Seoul'] #가장 오래있던 jeju가 빠져야함. \n",
        "['Pangyo', 'Seoul', 'NewYork']\n",
        "#다음은 판교가 빠지게 됨. \n",
        "['Seoul', 'NewYork', 'LA'] #만약 이 다음에 NewYork이 온다면?\n",
        "#뉴욕을 일단 제거하고, 다시 append 하게 됨. (최근으로 보냄)\n",
        "\n",
        "['Seoul', 'LA', 'NewYork'] #만약 이 다음에 NewYork이 온다면? -> 또 제거하고 다시 추가 "
      ],
      "metadata": {
        "id": "d_T0acfgqvAJ"
      },
      "execution_count": null,
      "outputs": []
    },
    {
      "cell_type": "code",
      "source": [
        "#deque를 쓰겠음.\n",
        "\n",
        "from collections import deque\n",
        "\n",
        "l = [10,20,30,40]\n",
        "d= deque(l)\n",
        "d"
      ],
      "metadata": {
        "colab": {
          "base_uri": "https://localhost:8080/"
        },
        "id": "Fn2x66iir_iU",
        "outputId": "327f066a-b4d5-4a8c-86d5-e3458dd189db"
      },
      "execution_count": null,
      "outputs": [
        {
          "output_type": "execute_result",
          "data": {
            "text/plain": [
              "deque([10, 20, 30, 40])"
            ]
          },
          "metadata": {},
          "execution_count": 85
        }
      ]
    },
    {
      "cell_type": "code",
      "source": [
        "dir(d)"
      ],
      "metadata": {
        "colab": {
          "base_uri": "https://localhost:8080/"
        },
        "id": "vZdfcM61sLd7",
        "outputId": "803f296a-76cf-4c4f-dccb-7a79cf05d373"
      },
      "execution_count": null,
      "outputs": [
        {
          "output_type": "execute_result",
          "data": {
            "text/plain": [
              "['__add__',\n",
              " '__bool__',\n",
              " '__class__',\n",
              " '__class_getitem__',\n",
              " '__contains__',\n",
              " '__copy__',\n",
              " '__delattr__',\n",
              " '__delitem__',\n",
              " '__dir__',\n",
              " '__doc__',\n",
              " '__eq__',\n",
              " '__format__',\n",
              " '__ge__',\n",
              " '__getattribute__',\n",
              " '__getitem__',\n",
              " '__gt__',\n",
              " '__hash__',\n",
              " '__iadd__',\n",
              " '__imul__',\n",
              " '__init__',\n",
              " '__init_subclass__',\n",
              " '__iter__',\n",
              " '__le__',\n",
              " '__len__',\n",
              " '__lt__',\n",
              " '__mul__',\n",
              " '__ne__',\n",
              " '__new__',\n",
              " '__reduce__',\n",
              " '__reduce_ex__',\n",
              " '__repr__',\n",
              " '__reversed__',\n",
              " '__rmul__',\n",
              " '__setattr__',\n",
              " '__setitem__',\n",
              " '__sizeof__',\n",
              " '__str__',\n",
              " '__subclasshook__',\n",
              " 'append',\n",
              " 'appendleft',\n",
              " 'clear',\n",
              " 'copy',\n",
              " 'count',\n",
              " 'extend',\n",
              " 'extendleft',\n",
              " 'index',\n",
              " 'insert',\n",
              " 'maxlen',\n",
              " 'pop',\n",
              " 'popleft',\n",
              " 'remove',\n",
              " 'reverse',\n",
              " 'rotate']"
            ]
          },
          "metadata": {},
          "execution_count": 81
        }
      ]
    },
    {
      "cell_type": "code",
      "source": [
        "d.append(1) # 맨 뒤에 새로운 값 append \n",
        "d"
      ],
      "metadata": {
        "colab": {
          "base_uri": "https://localhost:8080/"
        },
        "id": "EZwbaJ41svXB",
        "outputId": "8a945964-30ef-40bb-c216-928c93596ebc"
      },
      "execution_count": null,
      "outputs": [
        {
          "output_type": "execute_result",
          "data": {
            "text/plain": [
              "deque([10, 20, 30, 40, 1])"
            ]
          },
          "metadata": {},
          "execution_count": 86
        }
      ]
    },
    {
      "cell_type": "code",
      "source": [
        "d.pop() #pop을 하면 후입선출 구조임."
      ],
      "metadata": {
        "colab": {
          "base_uri": "https://localhost:8080/"
        },
        "id": "3j9pTaYLsy4v",
        "outputId": "9662757f-c856-4e1c-d859-ac84012791bc"
      },
      "execution_count": null,
      "outputs": [
        {
          "output_type": "execute_result",
          "data": {
            "text/plain": [
              "40"
            ]
          },
          "metadata": {},
          "execution_count": 90
        }
      ]
    },
    {
      "cell_type": "code",
      "source": [
        "from collections import deque\n",
        "\n",
        "def solution(cacheSize, cities):\n",
        "\n",
        "  ans = 0 #시간 \n",
        "\n",
        "  l = [''] * cacheSize # 빈 리스트 생성\n",
        "  cache = deque(l, maxlen = cacheSize) #maxlen 설정이 중요!!! \n",
        "  for city in cities:\n",
        "    city = city.lower\n",
        "    if city in cache:\n",
        "      cache.remove(city) # 삭제하고\n",
        "      cache.append(city) # 다시 투입 \n",
        "      ans += 1 \n",
        "    else: \n",
        "      cache.append(city)\n",
        "      ans += 5 \n",
        "  return ans\n",
        "\n",
        "\n",
        "\n",
        "testcase = [\n",
        "    [3,['Jeju', 'Pangyo', 'Seoul', 'NewYork', 'LA', 'Jeju', 'Pangyo', 'Seoul', 'NewYork', 'LA']],\n",
        "    [3, ['Jeju', 'Pangyo', 'Seoul', 'Jeju', 'Pangyo', 'Seoul', 'Jeju', 'Pangyo', 'Seoul']]\n",
        "]\n",
        "print(solution(3, ['Jeju', 'Pangyo', 'Seoul', 'NewYork', 'LA', 'Jeju', 'Pangyo', 'Seoul', 'NewYork', 'LA']))\n",
        "\n",
        "###뭐가 문제?!!! "
      ],
      "metadata": {
        "colab": {
          "base_uri": "https://localhost:8080/",
          "height": 0
        },
        "id": "hGAKCu81sHhj",
        "outputId": "60305895-8111-4e1c-ac32-f8862f12c2bf"
      },
      "execution_count": 2,
      "outputs": [
        {
          "output_type": "stream",
          "name": "stdout",
          "text": [
            "50\n"
          ]
        }
      ]
    },
    {
      "cell_type": "markdown",
      "source": [
        "# 카카오 난이도 중 "
      ],
      "metadata": {
        "id": "aBAYi6uiI7rt"
      }
    },
    {
      "cell_type": "markdown",
      "source": [
        "### 6번 카카오 2018 공채 문제 4번(셔틀버스)\n",
        "\n",
        "카카오에서는 무료 셔틀버스를 운행하기 때문에 판교역에서 편하게 사무실로 올 수 있다. 카카오의 직원은 서로를 ‘크루’라고 부르는데, 아침마다 많은 크루들이 이 셔틀을 이용하여 출근한다.\n",
        "\n",
        "---\n",
        "\n",
        "이 문제에서는 편의를 위해 셔틀은 다음과 같은 규칙으로 운행한다고 가정하자.\n",
        "\n",
        "셔틀은 09:00부터 총 n회 t분 간격으로 역에 도착하며, \n",
        "\n",
        "하나의 셔틀에는 최대 m명의 승객이 탈 수 있다.\n",
        "\n",
        "\n",
        "셔틀은 도착했을 때 도착한 순간에 대기열에 선 크루까지 포함해서 대기 순서대로 태우고 바로 출발한다. \n",
        "\n",
        "예를 들어 09:00에 도착한 셔틀은 자리가 있다면 09:00에 줄을 선 크루도 탈 수 있다.\n",
        "\n",
        "\n",
        "일찍 나와서 셔틀을 기다리는 것이 귀찮았던 콘은, 일주일간의 집요한 관찰 끝에 어떤 크루가 몇 시에 셔틀 대기열에 도착하는지 알아냈다. 콘이 셔틀을 타고 사무실로 갈 수 있는 도착 시각 중 제일 늦은 시각을 구하여라.\n",
        "\n",
        "\n",
        "단, 콘은 게으르기 때문에 같은 시각에 도착한 크루 중 대기열에서 제일 뒤에 선다. 또한, 모든 크루는 잠을 자야 하므로 23:59에 집에 돌아간다. 따라서 어떤 크루도 다음날 셔틀을 타는 일은 없다.\n",
        "\n",
        "---\n",
        "\n",
        "#### <입력 형식>\n",
        "- 셔틀 운행 횟수 n, \n",
        "- 셔틀 운행 간격 t, \n",
        "- 한 셔틀에 탈 수 있는 최대 크루 수 m,\n",
        "- 크루가 대기열에 도착하는 시각을 모은 배열 timetable이 입력으로 주어진다.\n",
        "\n",
        "\n",
        "\n",
        "- 0 ＜ n ≦ 10\n",
        "- 0 ＜ t ≦ 60\n",
        "- 0 ＜ m ≦ 45\n",
        "\n",
        "timetable은 최소 길이 1이고 최대 길이 2000인 배열로, 하루 동안 크루가 대기열에 도착하는 시각이 HH:MM 형식으로 이루어져 있다.\n",
        "크루의 도착 시각 HH:MM은 00:01에서 23:59 사이이다.\n",
        "\n",
        "\n",
        "\n",
        "\n",
        "#### <출력 형식>\n",
        "콘이 무사히 셔틀을 타고 사무실로 갈 수 있는 제일 늦은 도착 시각을 출력한다. 도착 시각은 HH:MM 형식이며, 00:00에서 23:59 사이의 값이 될 수 있다.\n",
        "\n",
        "\n",
        "\n"
      ],
      "metadata": {
        "id": "jM6jQws-JNHJ"
      }
    },
    {
      "cell_type": "markdown",
      "source": [
        "중요\n",
        "`sorted()`*를 써야할때와 `sort`를 써야할때*"
      ],
      "metadata": {
        "id": "roZKqzhoOJei"
      }
    },
    {
      "cell_type": "code",
      "source": [
        "def solution(n,t,m,timetable) : \n",
        "  timetable = sorted([int(i[:2]) * 60 + int(i[3:]) for i in timetable]) # 시간 분단위로 저장 \n",
        "  # sort하면 안됨 / sorted를 해야 정렬된 값을 리턴해줌. \n",
        "\n",
        "  #콘의 초기값을 일단 9시로 잡도록 하겠다. \n",
        "  콘의출근시간 = 540\n",
        "  출근한사람들=[]\n",
        "  셔틀버스시간 = 540\n",
        "\n",
        "\n",
        "  # 1명씩 출근하는 코드\n",
        "  for i in range(n): # 1번 셔틀 운행할때.. \n",
        "    for j in range(m): # 크루 1명당.. \n",
        "      if timetable and timetable[0] <= 셔틀버스시간: #해당 시간내에 사람들을 출근시킴 \n",
        "        #출근한사람들.append(timetable.pop(0) )\n",
        "        콘의출근시간 = timetable.pop(0)-1\n",
        "\n",
        "      else: \n",
        "        콘의출근시간 = 셔틀버스시간\n",
        "      \n",
        "    셔틀버스시간 += t #다음버스로 \n",
        "\n",
        "  return 콘의출근시간, f'{str(콘의출근시간//60).zfill(2)}:{str(콘의출근시간%60).zfill(2)}'\n",
        "\n",
        "\n",
        "testcase = [\n",
        "    (1, 1, 5, ['08:00', '08:01', '08:02', '08:03']),\n",
        "    (2, 10, 2, ['09:10', '09:09', '08:00']),\n",
        "    (1, 2, 1, ['09:00', '09:00', '09:00', '09:00'])\n",
        "]\n",
        "\n",
        "for n, t, m, timetable in testcase:\n",
        "    print(solution(n, t, m, timetable))"
      ],
      "metadata": {
        "colab": {
          "base_uri": "https://localhost:8080/",
          "height": 0
        },
        "id": "iq1fAlQBLo04",
        "outputId": "70080a6f-c448-47d6-ea0f-068537965b2c"
      },
      "execution_count": 15,
      "outputs": [
        {
          "output_type": "stream",
          "name": "stdout",
          "text": [
            "(540, '09:00')\n",
            "(549, '09:09')\n",
            "(539, '08:59')\n"
          ]
        }
      ]
    },
    {
      "cell_type": "code",
      "source": [],
      "metadata": {
        "id": "3un8zVRoFdIL"
      },
      "execution_count": null,
      "outputs": []
    }
  ]
}